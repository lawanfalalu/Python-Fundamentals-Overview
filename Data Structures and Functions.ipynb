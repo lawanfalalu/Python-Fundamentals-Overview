{
 "cells": [
  {
   "cell_type": "markdown",
   "id": "incorrect-homeless",
   "metadata": {
    "slideshow": {
     "slide_type": "slide"
    }
   },
   "source": [
    "# Week 3: Data Structures and Functions\n",
    "\n",
    "In today's tutorial, we'll cover:\n",
    "- Data structures, \n",
    "  - like lists, \n",
    "  - dictionaries, and \n",
    "  - tuples\n",
    "- Functions.\n",
    "\n",
    "A set of exercises that will allow you to test your learning of this tutorial will also be made available.  "
   ]
  },
  {
   "cell_type": "markdown",
   "id": "unsigned-payday",
   "metadata": {
    "slideshow": {
     "slide_type": "slide"
    }
   },
   "source": [
    "## Lists\n",
    "\n",
    "So far, we've used variable names to store a single value. However, we sometimes have a _collection_ of related values that we want to store together. Python has a number of built-in collection types, including lists. Lists are _sequences_ of values, possibly of different types, that are stored in order. Python lists are also _mutable_ and _dynamic_, and allow us to access their elements using indices.\n",
    "\n",
    "### Instantiating a list\n",
    "\n",
    "Square brackets (`[` `]`) are used to instantiate lists:"
   ]
  },
  {
   "cell_type": "code",
   "execution_count": 63,
   "id": "convertible-vegetarian",
   "metadata": {
    "slideshow": {
     "slide_type": "slide"
    }
   },
   "outputs": [
    {
     "name": "stdout",
     "output_type": "stream",
     "text": [
      "[]\n",
      "[1]\n",
      "[1, 2, 3]\n",
      "[1, 'two', 3.0]\n",
      "[1, 2, [1, 'two', 3.0]]\n"
     ]
    }
   ],
   "source": [
    "no_elements = []\n",
    "one_element = [1]\n",
    "lots_of_elements = [1, 2, 3]\n",
    "lots_of_elements_with_different_types = [1, \"two\", 3.0]\n",
    "nested_lists = [1, 2, lots_of_elements_with_different_types]\n",
    "\n",
    "print(no_elements)\n",
    "print(one_element)\n",
    "print(lots_of_elements)\n",
    "print(lots_of_elements_with_different_types)\n",
    "print(nested_lists)"
   ]
  },
  {
   "cell_type": "code",
   "execution_count": null,
   "id": "b1dd39da",
   "metadata": {},
   "outputs": [],
   "source": []
  },
  {
   "cell_type": "markdown",
   "id": "expected-massachusetts",
   "metadata": {
    "slideshow": {
     "slide_type": "notes"
    }
   },
   "source": [
    "As shown, we can create an empty list with square brackets that don't have anything between them. Sometimes this is useful for creating a list that we'll add values to later on.\n",
    "\n",
    "In addition, we can instantiate a list with values. The initial values of the list go inside the square brackets, and are separated by commas. For example, `lots_of_elements` has three elements, or values: `1`, `2`, and `3`. We can also store values of different types in a single list. `lots_of_elements_with_different_types` contains an integer, a string, and a float. Finally, as shown by `nested_lists`, list elements can be lists themselves, creating a _nested_ list."
   ]
  },
  {
   "cell_type": "markdown",
   "id": "least-beads",
   "metadata": {
    "slideshow": {
     "slide_type": "slide"
    }
   },
   "source": [
    "### Getting the length of a list\n",
    "\n",
    "We can get the length of a list using the `len` function:"
   ]
  },
  {
   "cell_type": "code",
   "execution_count": null,
   "id": "handy-whole",
   "metadata": {
    "slideshow": {
     "slide_type": "fragment"
    }
   },
   "outputs": [],
   "source": [
    "print(len(no_elements))\n",
    "print(len(one_element))\n",
    "print(len(lots_of_elements))\n",
    "print(len(lots_of_elements_with_different_types))\n",
    "print(len(nested_lists))"
   ]
  },
  {
   "cell_type": "markdown",
   "id": "advance-gates",
   "metadata": {
    "slideshow": {
     "slide_type": "notes"
    }
   },
   "source": [
    "While most of these are self-explanatory, it is worth noting how `len` handles nested lists. `nested_lists` contains only three elements, and `len` returns `3`. The last element in `nested_lists` is itself a list: but it still counts as a single element."
   ]
  },
  {
   "cell_type": "markdown",
   "id": "concrete-disaster",
   "metadata": {
    "slideshow": {
     "slide_type": "slide"
    }
   },
   "source": [
    "### Indexing and slicing\n",
    "\n",
    "We can access a specific element of a list:"
   ]
  },
  {
   "cell_type": "code",
   "execution_count": null,
   "id": "popular-snowboard",
   "metadata": {
    "slideshow": {
     "slide_type": "fragment"
    }
   },
   "outputs": [],
   "source": [
    "print(lots_of_elements[0])\n",
    "print(lots_of_elements[2])"
   ]
  },
  {
   "cell_type": "markdown",
   "id": "contained-paper",
   "metadata": {
    "slideshow": {
     "slide_type": "slide"
    }
   },
   "source": [
    "The number inside the square brackets is called the _index_. In Python, each element of the list is given an index, starting with `0` for the first element, and incrementing by one for each subsequent element in order.\n",
    "\n",
    "We can try to access an element that doesn't exist:"
   ]
  },
  {
   "cell_type": "code",
   "execution_count": 65,
   "id": "periodic-myanmar",
   "metadata": {
    "slideshow": {
     "slide_type": "fragment"
    }
   },
   "outputs": [
    {
     "name": "stdout",
     "output_type": "stream",
     "text": [
      "1\n"
     ]
    }
   ],
   "source": [
    "print(lots_of_elements[0])"
   ]
  },
  {
   "cell_type": "markdown",
   "id": "scenic-schedule",
   "metadata": {
    "slideshow": {
     "slide_type": "slide"
    }
   },
   "source": [
    "As shown, we'll get an error if we try to do that. We can, however, access elements using a negative index:"
   ]
  },
  {
   "cell_type": "code",
   "execution_count": null,
   "id": "pleasant-soviet",
   "metadata": {
    "slideshow": {
     "slide_type": "fragment"
    }
   },
   "outputs": [],
   "source": [
    "print(lots_of_elements[-3])"
   ]
  },
  {
   "cell_type": "markdown",
   "id": "bottom-render",
   "metadata": {
    "slideshow": {
     "slide_type": "notes"
    }
   },
   "source": [
    "A negative index tells the Python interpreter to count from the _last element_ of the list, where the last element can be thought of as having index `-1`, and the first element as having index `-len(list)`. As with positive indices, we can't access elements that don't exist, and need to stay within the range:"
   ]
  },
  {
   "cell_type": "code",
   "execution_count": null,
   "id": "laden-passion",
   "metadata": {
    "slideshow": {
     "slide_type": "fragment"
    }
   },
   "outputs": [],
   "source": [
    "print(lots_of_elements[-4])"
   ]
  },
  {
   "cell_type": "markdown",
   "id": "spanish-oxygen",
   "metadata": {
    "slideshow": {
     "slide_type": "slide"
    }
   },
   "source": [
    "While we can access individual elements of a list, it is sometimes useful to access multiple values at once. In Python, we can do this with _slicing_:"
   ]
  },
  {
   "cell_type": "code",
   "execution_count": null,
   "id": "monthly-metabolism",
   "metadata": {
    "slideshow": {
     "slide_type": "fragment"
    }
   },
   "outputs": [],
   "source": [
    "some_of_lots_of_elements = lots_of_elements[1:3]\n",
    "print(lots_of_elements)\n",
    "print(some_of_lots_of_elements)"
   ]
  },
  {
   "cell_type": "markdown",
   "id": "respective-boulder",
   "metadata": {
    "slideshow": {
     "slide_type": "slide"
    }
   },
   "source": [
    "In this example, we specify two indices, separated by a colon (`:`), in the square brackets on the first line, to take a _slice_ of the `lots_of_elements` list. The first number specifies the index of the first element that we want to extract, and the second number specifies where the slice stops: the slice will _not_ include this final element.\n",
    "\n",
    "We can think of the indices being to the left of each element:\n",
    "\n",
    "![List indices](images/list_indices.png \"List indices\")"
   ]
  },
  {
   "cell_type": "markdown",
   "id": "nearby-anchor",
   "metadata": {
    "slideshow": {
     "slide_type": "slide"
    }
   },
   "source": [
    "And so, when we take a slice (say `lots_of_elements[1:3]`), it can be illustrated as:\n",
    "\n",
    "![List indices (slice example)](images/have_a_slice.png \"List indices (slice example)\")\n",
    "\n",
    "As shown in the above example, slicing a list will create a new list. This is true even when the slice contains a single element:"
   ]
  },
  {
   "cell_type": "code",
   "execution_count": null,
   "id": "vital-boutique",
   "metadata": {
    "slideshow": {
     "slide_type": "slide"
    }
   },
   "outputs": [],
   "source": [
    "print(lots_of_elements[2:3])"
   ]
  },
  {
   "cell_type": "markdown",
   "id": "numeric-above",
   "metadata": {
    "slideshow": {
     "slide_type": "fragment"
    }
   },
   "source": [
    "When slicing, we can omit either or both of the start and end indices:"
   ]
  },
  {
   "cell_type": "code",
   "execution_count": null,
   "id": "wicked-article",
   "metadata": {
    "slideshow": {
     "slide_type": "fragment"
    }
   },
   "outputs": [],
   "source": [
    "print(lots_of_elements[:2])\n",
    "print(lots_of_elements[1:])\n",
    "print(lots_of_elements[:])"
   ]
  },
  {
   "cell_type": "markdown",
   "id": "actual-halloween",
   "metadata": {
    "slideshow": {
     "slide_type": "slide"
    }
   },
   "source": [
    "Omitting the start index means that the slice will start at the beginning of the list, while omitting the end index means that the slice will continue until the end of the list. It follows that omitting both values is the same as taking a slice of the whole list (i.e., `lots_of_elements[:] == lots_of_elements`).\n",
    "\n",
    "We can also specify a _step_:"
   ]
  },
  {
   "cell_type": "code",
   "execution_count": null,
   "id": "interesting-weather",
   "metadata": {
    "slideshow": {
     "slide_type": "fragment"
    }
   },
   "outputs": [],
   "source": [
    "many_numbers = [1, 2, 3, 4, 5, 6, 7, 8, 9, 10]\n",
    "print(many_numbers[1:8:2])"
   ]
  },
  {
   "cell_type": "markdown",
   "id": "pediatric-november",
   "metadata": {
    "slideshow": {
     "slide_type": "slide"
    }
   },
   "source": [
    "The slice still starts with the element indicated by the first index, and stops before the second index. The third number specifies the step.\n",
    "\n",
    "Both the start and end indices, and the step, can be negative:"
   ]
  },
  {
   "cell_type": "code",
   "execution_count": null,
   "id": "unlimited-amazon",
   "metadata": {
    "slideshow": {
     "slide_type": "fragment"
    }
   },
   "outputs": [],
   "source": [
    "print(many_numbers[-5:])\n",
    "print(many_numbers[-5:-1])\n",
    "print(many_numbers[-5:1:-1])\n",
    "print(many_numbers[::-1])"
   ]
  },
  {
   "cell_type": "markdown",
   "id": "burning-granny",
   "metadata": {
    "slideshow": {
     "slide_type": "slide"
    }
   },
   "source": [
    "Negative start and end indices behave as described for accessing individual elements, where counting begins at the end of the list. A negative step means that the slice will step through the list _in reverse_. As shown, the slice `[::-1]` is shorthand for reversing the whole list.\n",
    "\n",
    "Finally, when accessing a nested list, we chain together the notation:"
   ]
  },
  {
   "cell_type": "code",
   "execution_count": null,
   "id": "optimum-exercise",
   "metadata": {
    "scrolled": true,
    "slideshow": {
     "slide_type": "fragment"
    }
   },
   "outputs": [],
   "source": [
    "print(nested_lists[2][1])"
   ]
  },
  {
   "cell_type": "markdown",
   "id": "secret-oracle",
   "metadata": {
    "slideshow": {
     "slide_type": "fragment"
    }
   },
   "source": [
    "In the example above, we first access the 3rd element of the `nested_lists` list, which is itself a list. We then access the 2nd element of that list."
   ]
  },
  {
   "cell_type": "markdown",
   "id": "stone-density",
   "metadata": {
    "slideshow": {
     "slide_type": "slide"
    }
   },
   "source": [
    "### Mutating lists\n",
    "\n",
    "Lists are _mutable_: that is, we can change the values that are stored in the list:"
   ]
  },
  {
   "cell_type": "code",
   "execution_count": null,
   "id": "requested-figure",
   "metadata": {
    "slideshow": {
     "slide_type": "fragment"
    }
   },
   "outputs": [],
   "source": [
    "a_few_numbers = [1, 2, 3, 4, 5]\n",
    "print(a_few_numbers)\n",
    "a_few_numbers[3] = 12\n",
    "print(a_few_numbers)"
   ]
  },
  {
   "cell_type": "markdown",
   "id": "extreme-application",
   "metadata": {
    "slideshow": {
     "slide_type": "slide"
    }
   },
   "source": [
    "We can also change multiple values at once, using the slice notation described in the last section:"
   ]
  },
  {
   "cell_type": "code",
   "execution_count": null,
   "id": "consistent-lecture",
   "metadata": {
    "slideshow": {
     "slide_type": "fragment"
    }
   },
   "outputs": [],
   "source": [
    "a_few_numbers[2:4] = [30, 31]\n",
    "print(a_few_numbers)"
   ]
  },
  {
   "cell_type": "markdown",
   "id": "monthly-supervision",
   "metadata": {
    "slideshow": {
     "slide_type": "slide"
    }
   },
   "source": [
    "All of the notation from the previous section can be used here. It is important to note that the length of the slice on the left hand side (i.e., the list we're mutating) _must_ be the same as the length of the list of the right hand side (i.e., the new values).\n",
    "\n",
    "Lists in Python are also _dynamic_: we can add and remove values, changing the size of the list:"
   ]
  },
  {
   "cell_type": "code",
   "execution_count": null,
   "id": "departmental-chess",
   "metadata": {
    "slideshow": {
     "slide_type": "fragment"
    }
   },
   "outputs": [],
   "source": [
    "a_few_more_numbers = [7, 8, 9]\n",
    "print(a_few_more_numbers)\n",
    "a_few_more_numbers.append(10)\n",
    "print(a_few_more_numbers)"
   ]
  },
  {
   "cell_type": "markdown",
   "id": "specified-concert",
   "metadata": {
    "slideshow": {
     "slide_type": "slide"
    }
   },
   "source": [
    "Here, we use the `append` function of lists to add an individual element. We can also use `extend` to add a list of elements to another:"
   ]
  },
  {
   "cell_type": "code",
   "execution_count": null,
   "id": "proof-mortality",
   "metadata": {
    "slideshow": {
     "slide_type": "fragment"
    }
   },
   "outputs": [],
   "source": [
    "a_few_more_numbers.extend([10, 11, 12, 13])\n",
    "print(a_few_more_numbers)"
   ]
  },
  {
   "cell_type": "markdown",
   "id": "fallen-manitoba",
   "metadata": {
    "slideshow": {
     "slide_type": "slide"
    }
   },
   "source": [
    "We can also remove elements from a list:"
   ]
  },
  {
   "cell_type": "code",
   "execution_count": null,
   "id": "grand-provider",
   "metadata": {
    "scrolled": true,
    "slideshow": {
     "slide_type": "fragment"
    }
   },
   "outputs": [],
   "source": [
    "a_few_more_numbers.remove(10)\n",
    "print(a_few_more_numbers)\n",
    "del a_few_more_numbers[3:5]\n",
    "print(a_few_more_numbers)"
   ]
  },
  {
   "cell_type": "markdown",
   "id": "plastic-numbers",
   "metadata": {
    "slideshow": {
     "slide_type": "fragment"
    }
   },
   "source": [
    "`remove` will delete the first occurence of the specified value, while `del` will remove the specified element or slice. It is important to remember that deleting elements from a list will shift the indices of all the elements that come after the deleted elements."
   ]
  },
  {
   "cell_type": "markdown",
   "id": "qualified-program",
   "metadata": {
    "slideshow": {
     "slide_type": "slide"
    }
   },
   "source": [
    "### List operators and operations\n",
    "\n",
    "There are a couple of useful operators for lists:"
   ]
  },
  {
   "cell_type": "code",
   "execution_count": null,
   "id": "corresponding-mixture",
   "metadata": {
    "slideshow": {
     "slide_type": "fragment"
    }
   },
   "outputs": [],
   "source": [
    "two_lists = [1, 2, 3] + [4, 5, 6]\n",
    "multiply_lists = [1, 2, 3] * 10\n",
    "\n",
    "print(two_lists)\n",
    "print(multiply_lists)"
   ]
  },
  {
   "cell_type": "markdown",
   "id": "enormous-modification",
   "metadata": {
    "slideshow": {
     "slide_type": "slide"
    }
   },
   "source": [
    "`+` is used to concatenate, or join, two lists together. It follows that `*` will join together a list with copies of itself, for the specified number of times. These operators are useful for adding elements to a list, or for instantiating a list with a known number of elements.\n",
    "\n",
    "We could use `+` to add elements to a list like this:"
   ]
  },
  {
   "cell_type": "code",
   "execution_count": null,
   "id": "dirty-arthur",
   "metadata": {
    "slideshow": {
     "slide_type": "fragment"
    }
   },
   "outputs": [],
   "source": [
    "a_few_more_numbers = a_few_more_numbers + [14, 15, 16]\n",
    "print(a_few_more_numbers)"
   ]
  },
  {
   "cell_type": "markdown",
   "id": "foster-rescue",
   "metadata": {
    "slideshow": {
     "slide_type": "notes"
    }
   },
   "source": [
    "While this appears to be the same as using `extend`, there is a subtle difference that is sometimes important. In this example, using `+`, we're _creating a new list_, and assigning the new list to the `a_few_more_numbers` variable. When we used `extend`, we changed the existing list. We'll explore the impact of this with exercises later on.\n",
    "\n",
    "While there are many library functions that work on lists, we'll introduce another two here. The first sorts the list:"
   ]
  },
  {
   "cell_type": "code",
   "execution_count": null,
   "id": "worst-exploration",
   "metadata": {
    "scrolled": true,
    "slideshow": {
     "slide_type": "slide"
    }
   },
   "outputs": [],
   "source": [
    "some_words = [\"the\", \"quick\", \"brown\", \"fox\", \"jumped\", \"over\", \"the\", \"lazy\", \"dog\"]\n",
    "print(some_words)\n",
    "some_words.sort()\n",
    "print(some_words)"
   ]
  },
  {
   "cell_type": "markdown",
   "id": "funny-recording",
   "metadata": {
    "slideshow": {
     "slide_type": "slide"
    }
   },
   "source": [
    "The `sort` function will sort the specified list in place. By default, the list will be sorted in ascending lexicographical order (i.e., dictionary order). You can also sort the list in reverse order:"
   ]
  },
  {
   "cell_type": "code",
   "execution_count": null,
   "id": "guided-village",
   "metadata": {
    "slideshow": {
     "slide_type": "fragment"
    }
   },
   "outputs": [],
   "source": [
    "some_words.sort(reverse=True)\n",
    "print(some_words)"
   ]
  },
  {
   "cell_type": "markdown",
   "id": "complicated-creek",
   "metadata": {
    "slideshow": {
     "slide_type": "slide"
    }
   },
   "source": [
    "Finally, we can find the indice of the first occurence of a given value in a list:"
   ]
  },
  {
   "cell_type": "code",
   "execution_count": null,
   "id": "present-edwards",
   "metadata": {
    "slideshow": {
     "slide_type": "fragment"
    }
   },
   "outputs": [],
   "source": [
    "print(some_words.index(\"fox\"))"
   ]
  },
  {
   "cell_type": "markdown",
   "id": "recent-hungarian",
   "metadata": {
    "slideshow": {
     "slide_type": "slide"
    }
   },
   "source": [
    "An error will occur if the list doesn't contain the specified value. To check if a given value occurs in the list, we can check using the boolean `in` operator:"
   ]
  },
  {
   "cell_type": "code",
   "execution_count": null,
   "id": "killing-battlefield",
   "metadata": {
    "slideshow": {
     "slide_type": "fragment"
    }
   },
   "outputs": [],
   "source": [
    "print(\"cat\" in some_words)"
   ]
  },
  {
   "cell_type": "markdown",
   "id": "growing-watts",
   "metadata": {
    "slideshow": {
     "slide_type": "slide"
    }
   },
   "source": [
    "### Strings as lists\n",
    "\n",
    "In Python, there is some overlap between lists and strings. You can think of strings as being lists of individual characters. All of the methods for accessing individual elements -- or characters, in the case of strings -- and slices will work with strings as they do for lists.\n",
    "\n",
    "However, it is important to note that, in contrast to lists, strings are _immutable_: they cannot be changed. That means that none of the functions described in the `Mutating lists` section above apply to strings."
   ]
  },
  {
   "cell_type": "markdown",
   "id": "universal-wagon",
   "metadata": {
    "slideshow": {
     "slide_type": "slide"
    }
   },
   "source": [
    "### Iterating over lists"
   ]
  },
  {
   "cell_type": "markdown",
   "id": "greek-young",
   "metadata": {},
   "source": [
    "It is quite common to want to loop over a list, and perform some computation with each element in turn. Python's for loop makes this straightforward:"
   ]
  },
  {
   "cell_type": "code",
   "execution_count": null,
   "id": "fantastic-remainder",
   "metadata": {
    "slideshow": {
     "slide_type": "fragment"
    }
   },
   "outputs": [],
   "source": [
    "for word in some_words:\n",
    "    print(f\"The word is: {word}\")"
   ]
  },
  {
   "cell_type": "markdown",
   "id": "indian-google",
   "metadata": {
    "slideshow": {
     "slide_type": "slide"
    }
   },
   "source": [
    "We can do this for lists containing any type, including numbers:"
   ]
  },
  {
   "cell_type": "code",
   "execution_count": 14,
   "id": "21ebfd19",
   "metadata": {},
   "outputs": [],
   "source": [
    "import numpy as np"
   ]
  },
  {
   "cell_type": "code",
   "execution_count": null,
   "id": "163d0784",
   "metadata": {},
   "outputs": [],
   "source": [
    "corr = np.corrcoef(np_baseball[])"
   ]
  },
  {
   "cell_type": "code",
   "execution_count": null,
   "id": "electronic-caution",
   "metadata": {
    "slideshow": {
     "slide_type": "fragment"
    }
   },
   "outputs": [],
   "source": [
    "for i in many_numbers:\n",
    "    print(i)"
   ]
  },
  {
   "cell_type": "markdown",
   "id": "filled-background",
   "metadata": {
    "slideshow": {
     "slide_type": "notes"
    }
   },
   "source": [
    "We can see some similarities with this approach - of looping over a list of numbers - with the `range` function introduced earlier in the week. While there is some difference, we can think of `range` as being a function that produces a list with the specified values and length. "
   ]
  },
  {
   "cell_type": "markdown",
   "id": "regulated-lindsay",
   "metadata": {
    "slideshow": {
     "slide_type": "slide"
    }
   },
   "source": [
    "## Tuples\n",
    "\n",
    "While we've seen that lists are _mutable_ -- that is, they can be changed after they've been created -- Python provides a similar type that is _immutable_, and so cannot be changed once it has been instantiated. These are called _tuples_ and are instantiated and accessed using syntax that is similar to that for lists:"
   ]
  },
  {
   "cell_type": "code",
   "execution_count": null,
   "id": "excited-customs",
   "metadata": {
    "slideshow": {
     "slide_type": "fragment"
    }
   },
   "outputs": [],
   "source": [
    "some_things = ('a', 12, \"hello\")\n",
    "print(some_things)\n",
    "print(len(some_things))\n",
    "print(some_things[2])"
   ]
  },
  {
   "cell_type": "markdown",
   "id": "finite-absolute",
   "metadata": {
    "slideshow": {
     "slide_type": "notes"
    }
   },
   "source": [
    "The difference here is that tuples are instantiated using using round brackets (`(` and `)`), as opposed to the square brackets used for lists.\n",
    "\n",
    "Tuples can be accessed using the same syntax and operations described for lists, including using slices, iteration, getting the length of a tuple, and testing if some value is in a tuple. However, since tuples are immutable, none of the operations and methods for adding or removing elements (described in the \"Mutating lists\" section) do _not_ apply to tuples."
   ]
  },
  {
   "cell_type": "markdown",
   "id": "nonprofit-setup",
   "metadata": {
    "slideshow": {
     "slide_type": "slide"
    }
   },
   "source": [
    "## Dictionaries"
   ]
  },
  {
   "cell_type": "markdown",
   "id": "junior-mercy",
   "metadata": {},
   "source": [
    "Lists and tuples are ideal for storing data that is both sequential - that is, needs to be stored in some order - and related. This is because we can uses numerical indices and slices to access the data.\n",
    "\n",
    "However, sometimes we want to store data that does not have a sequential structure. For example, we might have a phonebook, where each a person's name is associated with a telephone number. Lists wouldn't be suited to storing this data: we'd have to access each telephone number in order, rather than being able to look-up the number of a particular name.\n",
    "\n",
    "To allow us to store this kind of data, Python has _dictionaries_. In essence, dictionaries store a mapping between a _key_ (something unique that we want to associate with a value - in our example above, this would be the person's name) and a _value_ (anything that we want to associate with the key - again, in our example, this is the person's telephone number). \n",
    "\n",
    "We can create a dictionary using this syntax:"
   ]
  },
  {
   "cell_type": "code",
   "execution_count": 1,
   "id": "vanilla-indication",
   "metadata": {
    "slideshow": {
     "slide_type": "slide"
    }
   },
   "outputs": [
    {
     "name": "stdout",
     "output_type": "stream",
     "text": [
      "{'Bob': '0123456789', 'Alice': '98765434210'}\n"
     ]
    }
   ],
   "source": [
    "some_telephone_numbers = {\"Bob\": \"0123456789\", \"Alice\": \"98765434210\"}\n",
    "print(some_telephone_numbers)"
   ]
  },
  {
   "cell_type": "markdown",
   "id": "varied-corner",
   "metadata": {
    "slideshow": {
     "slide_type": "notes"
    }
   },
   "source": [
    "Here, we've created a dictionary with two keys - \"Bob\" and \"Alice\" - with associated telephone numbers.\n",
    "\n",
    "While we can use anything as a value, there are a few rules that restrict the types that we can use as keys. Importantly, keys need to be unique. For example, we couldn't have two keys called \"Alice\" in our phonebook. It follows, then, that we must be able to check if something is unique. Python does this using a process called _hashing_. We won't explore this further in this tutorial, but it is important to note that keys must be _hashable_. Finally, given that we want to enforce uniqueness, it is also the case that keys shouldn't be able to be changed: this would prevent us from checking that they are unique. As a result, keys must be _immutable_. That means that strings, integers, and tuples can be used as keys, but that lists and dictionaries (which as we'll see shortly are mutable) are not."
   ]
  },
  {
   "cell_type": "markdown",
   "id": "binary-navigator",
   "metadata": {
    "slideshow": {
     "slide_type": "slide"
    }
   },
   "source": [
    "### Indexing\n",
    "\n",
    "Just as with lists, we access a specific item in a dictionary by specifying the key in square brackets:"
   ]
  },
  {
   "cell_type": "code",
   "execution_count": 2,
   "id": "legitimate-huntington",
   "metadata": {
    "scrolled": true,
    "slideshow": {
     "slide_type": "fragment"
    }
   },
   "outputs": [
    {
     "name": "stdout",
     "output_type": "stream",
     "text": [
      "98765434210\n"
     ]
    }
   ],
   "source": [
    "print(some_telephone_numbers[\"Alice\"])"
   ]
  },
  {
   "cell_type": "markdown",
   "id": "studied-needle",
   "metadata": {
    "slideshow": {
     "slide_type": "slide"
    }
   },
   "source": [
    "If we try to index using a key that isn't in the dictionary, we'll get an error:"
   ]
  },
  {
   "cell_type": "code",
   "execution_count": 3,
   "id": "excess-negotiation",
   "metadata": {
    "slideshow": {
     "slide_type": "fragment"
    }
   },
   "outputs": [
    {
     "ename": "KeyError",
     "evalue": "'Maude'",
     "output_type": "error",
     "traceback": [
      "\u001b[1;31m---------------------------------------------------------------------------\u001b[0m",
      "\u001b[1;31mKeyError\u001b[0m                                  Traceback (most recent call last)",
      "Input \u001b[1;32mIn [3]\u001b[0m, in \u001b[0;36m<cell line: 1>\u001b[1;34m()\u001b[0m\n\u001b[1;32m----> 1\u001b[0m \u001b[38;5;28mprint\u001b[39m(\u001b[43msome_telephone_numbers\u001b[49m\u001b[43m[\u001b[49m\u001b[38;5;124;43m\"\u001b[39;49m\u001b[38;5;124;43mMaude\u001b[39;49m\u001b[38;5;124;43m\"\u001b[39;49m\u001b[43m]\u001b[49m)\n",
      "\u001b[1;31mKeyError\u001b[0m: 'Maude'"
     ]
    }
   ],
   "source": [
    "print(some_telephone_numbers[\"Maude\"])"
   ]
  },
  {
   "cell_type": "markdown",
   "id": "supposed-finder",
   "metadata": {
    "slideshow": {
     "slide_type": "slide"
    }
   },
   "source": [
    "We can avoid this in two ways. First, we can check if a key is in a dictionary using the boolean `in` operator:"
   ]
  },
  {
   "cell_type": "code",
   "execution_count": 4,
   "id": "figured-student",
   "metadata": {
    "slideshow": {
     "slide_type": "fragment"
    }
   },
   "outputs": [
    {
     "name": "stdout",
     "output_type": "stream",
     "text": [
      "False\n"
     ]
    }
   ],
   "source": [
    "print(\"Maude\" in some_telephone_numbers)"
   ]
  },
  {
   "cell_type": "markdown",
   "id": "comprehensive-database",
   "metadata": {
    "slideshow": {
     "slide_type": "slide"
    }
   },
   "source": [
    "Or, we can use `get`, and specify a default value:"
   ]
  },
  {
   "cell_type": "code",
   "execution_count": 7,
   "id": "alive-immunology",
   "metadata": {
    "scrolled": true,
    "slideshow": {
     "slide_type": "fragment"
    }
   },
   "outputs": [
    {
     "name": "stdout",
     "output_type": "stream",
     "text": [
      "Call the switchboard\n"
     ]
    }
   ],
   "source": [
    "print(some_telephone_numbers.get(\"Maude\", \"Call the switchboard\"))"
   ]
  },
  {
   "cell_type": "markdown",
   "id": "upset-qatar",
   "metadata": {
    "slideshow": {
     "slide_type": "fragment"
    }
   },
   "source": [
    "While this syntax is similar to that for lists, we can't use slicing. This is because dictionaries are used to represent data that isn't sequential: slices wouldn't make sense."
   ]
  },
  {
   "cell_type": "markdown",
   "id": "dominican-brother",
   "metadata": {
    "slideshow": {
     "slide_type": "slide"
    }
   },
   "source": [
    "### Mutating dictionaries\n",
    "\n",
    "Since dictionaries are mutable, we can change the values that are associated with keys, delete a key (and its value) altogether, and add new keys:"
   ]
  },
  {
   "cell_type": "code",
   "execution_count": null,
   "id": "patient-doctor",
   "metadata": {
    "slideshow": {
     "slide_type": "fragment"
    }
   },
   "outputs": [],
   "source": [
    "some_telephone_numbers[\"Alice\"] = \"0123456789\"\n",
    "del some_telephone_numbers[\"Bob\"]\n",
    "some_telephone_numbers[\"Maude\"] = \"9876556789\"\n",
    "print(some_telephone_numbers)"
   ]
  },
  {
   "cell_type": "code",
   "execution_count": 10,
   "id": "9af7389b",
   "metadata": {},
   "outputs": [],
   "source": [
    "a_tuple = ('a', 'b','c')"
   ]
  },
  {
   "cell_type": "code",
   "execution_count": 15,
   "id": "e74b5ab5",
   "metadata": {},
   "outputs": [
    {
     "name": "stdout",
     "output_type": "stream",
     "text": [
      "c\n"
     ]
    }
   ],
   "source": [
    "print(a_tuple[2])"
   ]
  },
  {
   "cell_type": "markdown",
   "id": "operating-surfing",
   "metadata": {
    "slideshow": {
     "slide_type": "fragment"
    }
   },
   "source": [
    "We use the assignment syntax (`=`) to add and modify values, and the `del` operation to remove a key."
   ]
  },
  {
   "cell_type": "markdown",
   "id": "sacred-insert",
   "metadata": {
    "slideshow": {
     "slide_type": "slide"
    }
   },
   "source": [
    "### Iterating over dictionaries\n",
    "\n",
    "There are three functions that are useful for iterating through a dictionary:"
   ]
  },
  {
   "cell_type": "code",
   "execution_count": 16,
   "id": "apart-latino",
   "metadata": {
    "slideshow": {
     "slide_type": "fragment"
    }
   },
   "outputs": [
    {
     "name": "stdout",
     "output_type": "stream",
     "text": [
      "dict_keys(['Bob', 'Alice'])\n",
      "dict_values(['0123456789', '98765434210'])\n",
      "dict_items([('Bob', '0123456789'), ('Alice', '98765434210')])\n"
     ]
    }
   ],
   "source": [
    "print(some_telephone_numbers.keys())\n",
    "print(some_telephone_numbers.values())\n",
    "print(some_telephone_numbers.items())"
   ]
  },
  {
   "cell_type": "markdown",
   "id": "normal-humor",
   "metadata": {
    "slideshow": {
     "slide_type": "slide"
    }
   },
   "source": [
    "`keys` provides a list of the keys that are present in the dictionary; `values` gives a list of the values; and `items` gives a list of tuples, where the first element is the key, and the second is the associated value. These lists are all ordered by the insertion order of the keys: so, in this example, \"Alice\" was in the phonebook before \"Maude\", and so the dictionary, and the lists, are in that order.\n",
    "\n",
    "When we want to iterate over a list, we can use the for loop:"
   ]
  },
  {
   "cell_type": "code",
   "execution_count": 17,
   "id": "correct-generator",
   "metadata": {
    "slideshow": {
     "slide_type": "slide"
    }
   },
   "outputs": [
    {
     "name": "stdout",
     "output_type": "stream",
     "text": [
      "You can phone Bob on 0123456789.\n",
      "You can phone Alice on 98765434210.\n"
     ]
    }
   ],
   "source": [
    "for name in some_telephone_numbers:\n",
    "    print(f\"You can phone {name} on {some_telephone_numbers[name]}.\")"
   ]
  },
  {
   "cell_type": "markdown",
   "id": "otherwise-information",
   "metadata": {
    "slideshow": {
     "slide_type": "slide"
    }
   },
   "source": [
    "As you can see, by default, the for loop operates over the list of keys. We can then use each key to access the related value in turn.\n",
    "\n",
    "We could also iterate over the other generated lists, including `items`:"
   ]
  },
  {
   "cell_type": "code",
   "execution_count": null,
   "id": "affected-candle",
   "metadata": {
    "slideshow": {
     "slide_type": "fragment"
    }
   },
   "outputs": [],
   "source": [
    "for name, phone_number in some_telephone_numbers.items():\n",
    "    print(f\"You can phone {name} on {phone_number}.\")"
   ]
  },
  {
   "cell_type": "code",
   "execution_count": 18,
   "id": "2a2ea527",
   "metadata": {},
   "outputs": [],
   "source": [
    "csc_dict = {\"CSC104\":\"Intro. to Number Theory\", \"CSC103\":\"Programming Concept I\", \"CSC105\": \"Logic Gates\"}\n"
   ]
  },
  {
   "cell_type": "code",
   "execution_count": 20,
   "id": "c2989516",
   "metadata": {},
   "outputs": [
    {
     "name": "stdout",
     "output_type": "stream",
     "text": [
      "Intro. to Number Theory\n",
      "Programming Concept I\n",
      "Logic Gates\n"
     ]
    }
   ],
   "source": [
    "for t in csc_dict:\n",
    "    print(csc_dict[t])"
   ]
  },
  {
   "cell_type": "markdown",
   "id": "freelance-horizontal",
   "metadata": {
    "slideshow": {
     "slide_type": "fragment"
    }
   },
   "source": [
    "This example also shows us Python's special syntax for iterating over lists of tuples. We can split the tuple automatically: here, the first element of the tuple is assigned to the first variable in the loop (`name`), and the second element is assigned to the second name (`phone_number`)."
   ]
  },
  {
   "cell_type": "markdown",
   "id": "diverse-princess",
   "metadata": {
    "slideshow": {
     "slide_type": "slide"
    }
   },
   "source": [
    "## Functions\n",
    "\n",
    "In Python, a function is a named block of code that can be _called_ anywhere in your program. When a function is _called_, the named block of statements is executed sequentially. That means that the flow of execution of the program is passed to the function when it is called, and then returned to the place the function was called once the function is finished. We can define, and call, a function like this:"
   ]
  },
  {
   "cell_type": "code",
   "execution_count": 22,
   "id": "eee8dccd",
   "metadata": {},
   "outputs": [],
   "source": [
    "def say_int()"
   ]
  },
  {
   "cell_type": "code",
   "execution_count": 23,
   "id": "79f97dee",
   "metadata": {},
   "outputs": [
    {
     "name": "stdout",
     "output_type": "stream",
     "text": [
      "Hi Safiyyah\n"
     ]
    }
   ],
   "source": [
    "say_hi(\"Safiyyah\")"
   ]
  },
  {
   "cell_type": "code",
   "execution_count": null,
   "id": "elegant-agreement",
   "metadata": {
    "slideshow": {
     "slide_type": "slide"
    }
   },
   "outputs": [],
   "source": [
    "def say_hello():\n",
    "    print(\"Hello!\")\n",
    "    \n",
    "say_hello()"
   ]
  },
  {
   "cell_type": "markdown",
   "id": "neither-vegetarian",
   "metadata": {
    "slideshow": {
     "slide_type": "notes"
    }
   },
   "source": [
    "In this example, we define a function called `say_hello` that contains a block of statements (there is only one statement in the block, `print(\"Hello!\")`), and we then call the `say_hello` function.\n",
    "\n",
    "There are a number of important points to note. First, the definition of the function does not alter the flow of the program. The Python interpreter still interprets the code line-by-line, in order. When it sees the function definition (beginning `def ..`), it does not evaluate the lines contained in the definition, but rather saves them, labelled with the name that we've given the function.\n",
    "\n",
    "Second, we can see that the function is given a name. The naming rules for functions are the same as for variable names: they can contain letters, numbers, and underscores (`_`), but must begin with a letter or underscore.\n",
    "\n",
    "Finally, we can see that the function is called by giving the function's name (`say_hello`), followed by a set of brackets (`()`). These brackets indicate that the name is a function, rather than a variable or other keyword. In addition, we'll see that we can _parameterise_ functions later on, and we'll pass arguments to the function by putting them in these brackets.\n",
    "\n"
   ]
  },
  {
   "cell_type": "markdown",
   "id": "infinite-istanbul",
   "metadata": {
    "slideshow": {
     "slide_type": "slide"
    }
   },
   "source": [
    "### Parameterising functions\n",
    "\n",
    "Just as `if` statements allowed our code to branch and vary depending on the value of data in our program, functions can also be made more useful by being expressed in terms of a set of _parameters_. This means that we can define our function in terms of a set of variable names that are given values when the function is called. For example:"
   ]
  },
  {
   "cell_type": "code",
   "execution_count": null,
   "id": "successful-migration",
   "metadata": {
    "slideshow": {
     "slide_type": "slide"
    }
   },
   "outputs": [],
   "source": [
    "def say_hello(name):\n",
    "    print(f\"Hello, {name}!\")\n",
    "    \n",
    "say_hello(\"Bob\")\n",
    "say_hello(\"Alice\")"
   ]
  },
  {
   "cell_type": "markdown",
   "id": "prescribed-samba",
   "metadata": {
    "slideshow": {
     "slide_type": "notes"
    }
   },
   "source": [
    "In this example, we've defined the `say_hello` function in terms of the `name` parameter. We use the variable name `name` in the definition of `say_hello`, but the value of this variable isn't known until the function is called. We can see the function being called twice with different names, and the appropriate message being printed given the argument that is passed to the function. It is important to note the different terms used here: a _parameter_ is the variable name we use when we define the function, while an _argument_ is the value we set those parameters to when we call the function.\n",
    "\n",
    "A function can have multiple parameters:"
   ]
  },
  {
   "cell_type": "code",
   "execution_count": null,
   "id": "developing-fountain",
   "metadata": {
    "slideshow": {
     "slide_type": "slide"
    }
   },
   "outputs": [],
   "source": [
    "def divide(x, y):\n",
    "    return x / y\n",
    "\n",
    "print(divide(4, 2))"
   ]
  },
  {
   "cell_type": "markdown",
   "id": "structured-shadow",
   "metadata": {
    "slideshow": {
     "slide_type": "notes"
    }
   },
   "source": [
    "In this example, there are two parameters, `x` and `y`, that are set to `4` and `2` respectively, when the function is called. Each parameter is set to the value given in the function call in the order that is given in the function definition. These are called _positional arguments_, given that they are assigned their value based on their position in the definition. That means that the order in which we provide the arguments matters:"
   ]
  },
  {
   "cell_type": "code",
   "execution_count": null,
   "id": "junior-census",
   "metadata": {
    "slideshow": {
     "slide_type": "slide"
    }
   },
   "outputs": [],
   "source": [
    "print(divide(2, 4))"
   ]
  },
  {
   "cell_type": "markdown",
   "id": "compliant-skiing",
   "metadata": {
    "slideshow": {
     "slide_type": "fragment"
    }
   },
   "source": [
    "Sometimes, trying to remember the order in which arguments need to be provided can be confusing. If we get the order wrong, as in the above example, we can end up with unexpected results. To overcome this, we can use _named arguments_:"
   ]
  },
  {
   "cell_type": "code",
   "execution_count": null,
   "id": "nuclear-tenant",
   "metadata": {
    "slideshow": {
     "slide_type": "fragment"
    }
   },
   "outputs": [],
   "source": [
    "def divide(dividend=1, divisor=1):\n",
    "    return dividend / divisor\n",
    "\n",
    "print(divide(4, 2))\n",
    "print(divide(dividend=4, divisor=2))\n",
    "print(divide(divisor=2, dividend=4))\n",
    "print(divide())"
   ]
  },
  {
   "cell_type": "markdown",
   "id": "prospective-destruction",
   "metadata": {
    "slideshow": {
     "slide_type": "notes"
    }
   },
   "source": [
    "Here, we redefine our `divide` function. This time, we've given the parameters names: the first is called `dividend`, while the second is called `divisor`. As shown, we name the parameters using the assignment syntax. This also specifies a default value: if we don't set the parameter, then the default value is used. As the example shows, we can call the function in the same way as we did before, in which case the arguments are set in the order they are given. However, we can also see that, using the argument names, we can switch the order and get the results that we expect. Finally, we see what happens when we use the default values.\n",
    "\n",
    "Named arguments are useful where parameters are optional and can sensibly have default values. When defining a function with named arguments, these need to come last in the list of parameters, after any positional arguments."
   ]
  },
  {
   "cell_type": "markdown",
   "id": "vulnerable-league",
   "metadata": {
    "slideshow": {
     "slide_type": "slide"
    }
   },
   "source": [
    "### `return`\n",
    "\n",
    "In our example functions so far, our functions have \"done something\" (i.e., printed a message). However, function calls in Python are also expressions, so they evaluate to a value:"
   ]
  },
  {
   "cell_type": "code",
   "execution_count": null,
   "id": "accepting-anderson",
   "metadata": {
    "slideshow": {
     "slide_type": "fragment"
    }
   },
   "outputs": [],
   "source": [
    "print(say_hello(\"Bob\"))"
   ]
  },
  {
   "cell_type": "markdown",
   "id": "egyptian-jamaica",
   "metadata": {
    "slideshow": {
     "slide_type": "notes"
    }
   },
   "source": [
    "When we execute this example, we'll see two lines: the first is the message printed by the `say_hello` function, while the next line will read `None`. That is because we're printing out the value that function evaluates to. We can `return` a value in our function, and that is the value that our function will evaluate to. However, by default, functions return `None` if no other value is given. For example, instead of printing the message, our function might return it:"
   ]
  },
  {
   "cell_type": "code",
   "execution_count": null,
   "id": "literary-binary",
   "metadata": {
    "slideshow": {
     "slide_type": "slide"
    }
   },
   "outputs": [],
   "source": [
    "def say_hello(name):\n",
    "    return f\"Hello, {name}!\"\n",
    "\n",
    "say_hello_bob = say_hello(\"Bob\")\n",
    "say_hello_alice = say_hello(\"Alice\")\n",
    "\n",
    "print(say_hello_alice)"
   ]
  },
  {
   "cell_type": "markdown",
   "id": "removed-wrapping",
   "metadata": {
    "slideshow": {
     "slide_type": "notes"
    }
   },
   "source": [
    "In this example, we create two variables `say_hello_bob` and `say_hello_alice` that contain a string generated by the `say_hello` function. Rather than the function printing a message, they construct a string instead, and `return` the generated string. This means that `say_hello_bob` contains the string `Hello, Bob!`, and `say_hello_alice` contains the string `Hello, Alice!`. We can then go on to print these variables if we want, as we do with `say_hello_alice`.\n",
    "\n",
    "This can also be illustrated using functions that work with numbers:"
   ]
  },
  {
   "cell_type": "code",
   "execution_count": null,
   "id": "entertaining-tongue",
   "metadata": {
    "slideshow": {
     "slide_type": "slide"
    }
   },
   "outputs": [],
   "source": [
    "def plus_one(x):\n",
    "    return x + 1\n",
    "\n",
    "print(1 + plus_one(3))"
   ]
  },
  {
   "cell_type": "markdown",
   "id": "impaired-marshall",
   "metadata": {
    "slideshow": {
     "slide_type": "notes"
    }
   },
   "source": [
    "In this example, we define `plus_one`, that takes a number, `x`, and returns that number plus 1. We then print the expression `1 + plus_one(3)`, which contains a call to the `plus_one` function. `plus_one(3)` evaluates to `4`, and `1 + 4` evaluates to `5`, which is the value that is printed.\n",
    "\n",
    "Flow returns to the place where the function is called as when the `return` statement is executed, wherever it is placed in the function definition. For example:"
   ]
  },
  {
   "cell_type": "code",
   "execution_count": null,
   "id": "comic-situation",
   "metadata": {
    "slideshow": {
     "slide_type": "slide"
    }
   },
   "outputs": [],
   "source": [
    "def return_in_the_middle():\n",
    "    print(\"hello\")\n",
    "    return\n",
    "    print(\"world\")\n",
    "    \n",
    "return_in_the_middle()"
   ]
  },
  {
   "cell_type": "markdown",
   "id": "transsexual-organ",
   "metadata": {
    "slideshow": {
     "slide_type": "notes"
    }
   },
   "source": [
    "In this example, when the `return_in_the_middle` function is called, `hello` is printed before the function returns. The second print statement (`print(\"world\")`) is never executed, because the `return` statement is before it."
   ]
  },
  {
   "cell_type": "markdown",
   "id": "blind-thread",
   "metadata": {
    "slideshow": {
     "slide_type": "slide"
    }
   },
   "source": [
    "## Scoping rules"
   ]
  },
  {
   "cell_type": "markdown",
   "id": "disabled-dancing",
   "metadata": {},
   "source": [
    "The _scope_ of a name (e.g., for a variable or a function) in our program is the area in the program where we can access that name. Once we define a name, it'll only be accessible within the scope in which it is defined. Scoping rules are needed so that we can reason about which name we're accessing and which names are accessible at a given time.\n",
    "\n",
    "Throughout this track, we'll use two scopes: the _global scope_, where names that are defined are available everywhere in the code, and _local scope_, where names that are defined are only available within that scope.\n",
    "\n",
    "Scoping rules can be difficult to understand, so we'll illustrate them with some examples. First, consider variables created inside a function definition:"
   ]
  },
  {
   "cell_type": "code",
   "execution_count": null,
   "id": "polished-shooting",
   "metadata": {
    "slideshow": {
     "slide_type": "slide"
    }
   },
   "outputs": [],
   "source": [
    "def say_hello(name):\n",
    "    message = f\"Hello, {name}!\"\n",
    "    return message\n",
    "\n",
    "say_hello(\"Bob\")\n",
    "print(message)"
   ]
  },
  {
   "cell_type": "markdown",
   "id": "aggressive-mirror",
   "metadata": {
    "slideshow": {
     "slide_type": "fragment"
    }
   },
   "source": [
    "This will result in an error: `message` is defined inside the scope of the `say_hello` function, and is therefore not accessible outside it. This is useful if we want, for example, to use the same name in multiple scopes:"
   ]
  },
  {
   "cell_type": "code",
   "execution_count": null,
   "id": "educated-offer",
   "metadata": {
    "slideshow": {
     "slide_type": "slide"
    }
   },
   "outputs": [],
   "source": [
    "def say_hello(name):\n",
    "    message = f\"Hello, {name}!\"\n",
    "    return message\n",
    "\n",
    "def say_goodbye(name):\n",
    "    message = f\"Goodbye, {name}!\"\n",
    "    return message\n",
    "\n",
    "print(say_hello(\"Alice\"))\n",
    "print(say_goodbye(\"Alice\"))"
   ]
  },
  {
   "cell_type": "markdown",
   "id": "spectacular-belgium",
   "metadata": {
    "slideshow": {
     "slide_type": "notes"
    }
   },
   "source": [
    "In this example, we have two sets of variables that have the same name: `name` and `message` are both used in the definitions of `say_hello` and `say_goodbye`. Python's scoping rules allow us to define these functions in this way, because there is no ambiguity about which name refers to which value. A fresh local scope is created for each function call. For example:"
   ]
  },
  {
   "cell_type": "code",
   "execution_count": null,
   "id": "tight-brazil",
   "metadata": {
    "slideshow": {
     "slide_type": "slide"
    }
   },
   "outputs": [],
   "source": [
    "print(say_hello(\"Bob\"))\n",
    "print(say_hello(\"Alice\"))"
   ]
  },
  {
   "cell_type": "markdown",
   "id": "gentle-capacity",
   "metadata": {
    "slideshow": {
     "slide_type": "fragment"
    }
   },
   "source": [
    "In this example, we call the `say_hello` function twice, each time with different parameters. This creates a new instance of both the `name` and `message` variables, within their own scope, each time the function is called.\n",
    "\n",
    "Finally, we can also create variables in the global scope. For example:"
   ]
  },
  {
   "cell_type": "code",
   "execution_count": null,
   "id": "neither-people",
   "metadata": {
    "slideshow": {
     "slide_type": "slide"
    }
   },
   "outputs": [],
   "source": [
    "time_of_day = \"morning\"\n",
    "\n",
    "def say_hello(name):\n",
    "    message = f\"Good {time_of_day}, {name}!\"\n",
    "    return message\n",
    "\n",
    "print(say_hello(\"Alice\"))"
   ]
  },
  {
   "cell_type": "markdown",
   "id": "stretch-waters",
   "metadata": {
    "slideshow": {
     "slide_type": "notes"
    }
   },
   "source": [
    "Here, we have defined a variable, `time_of_day`, in the global scope. That means that this variable is available throughout the code, any where after it has been defined. This is useful for sharing data throughout different functions. However, it is easy to misuse the global scope: you should consider whether or not data might be better passed as an argument to the function.\n",
    "\n",
    "We might define variables with the same name in different scopes:"
   ]
  },
  {
   "cell_type": "code",
   "execution_count": null,
   "id": "tender-marsh",
   "metadata": {
    "slideshow": {
     "slide_type": "slide"
    }
   },
   "outputs": [],
   "source": [
    "message = \"hello, bob!\"\n",
    "time_of_day = \"morning\"\n",
    "\n",
    "def say_hello(name):\n",
    "    message = f\"Good {time_of_day}, {name}!\"\n",
    "    return message\n",
    "\n",
    "print(message)\n",
    "print(say_hello(\"Alice\"))"
   ]
  },
  {
   "cell_type": "markdown",
   "id": "aware-parcel",
   "metadata": {
    "slideshow": {
     "slide_type": "notes"
    }
   },
   "source": [
    "In this example, we've defined two `message` variables: the first is in the global scope, while the second, set in the `say_hello` function, is in its local scope. Python's scoping rules mean that statements and expressions will refer to the name in the closest scope, preferring the local and then global scope. However, while these rules allow your code to run unambiguously, you should generally avoid reusing variable names in different scopes: it can make your code more difficult to read and debug."
   ]
  },
  {
   "cell_type": "markdown",
   "id": "crucial-tobago",
   "metadata": {
    "slideshow": {
     "slide_type": "slide"
    }
   },
   "source": [
    "## Using functions to improve your code\n",
    "\n",
    "Now that we've been introduced to functions and the scoping rules that apply to them, we can see that there might be a number of reasons to make use of functions in our code:\n",
    "- To split our code into blocks that are easier to write, and to debug later;\n",
    "- To make it easier to reuse code, within the same program, across different programs, and across different projects;\n",
    "- To make use of the scoping rules that give us a new _local scope_ to work within.\n",
    "\n",
    "In general, as you write longer programs, you should be thinking about dividing your code into functions. Broadly, we wants to write functions that are small (in the order of 10s of lines of code) and that do one thing. In the problem set for this tutorial, we'll explore when and how to write useful functions.\n",
    "\n",
    "\n"
   ]
  },
  {
   "cell_type": "markdown",
   "id": "alien-frame",
   "metadata": {
    "slideshow": {
     "slide_type": "slide"
    }
   },
   "source": [
    "## Summary\n",
    "\n",
    "In this tutorial, we've recapped a number of Python concepts, including:\n",
    "- Data types;\n",
    "- Formatted strings;\n",
    "- Getting input from the keyboard;\n",
    "- If statements;\n",
    "- Loops and iteration;\n",
    "- Data structures, like lists, dictionaries, and tuples; and\n",
    "- Functions."
   ]
  },
  {
   "cell_type": "code",
   "execution_count": 4,
   "id": "f5ef82ad",
   "metadata": {},
   "outputs": [
    {
     "name": "stdout",
     "output_type": "stream",
     "text": [
      "niq!zUc\"GkY(K$Pb\n"
     ]
    }
   ],
   "source": [
    "import random\n",
    "A_Z = [chr(65+i) for i in range(26)]\n",
    "a_z = [chr(97+i) for i in range(26)]\n",
    "special_characters = [chr(33+i) for i in range(15)]\n",
    "\n",
    "# print(f\"{A_Z}\")\n",
    "# print(f\"{a_z}\")\n",
    "# print(f\"{special_characters}\")\n",
    "\n",
    "def generate_random_string():\n",
    "    random_string = \"\".join([random.choice(A_Z + a_z + special_characters) for i in range(16)])\n",
    "    return random_string\n",
    "\n",
    "\n",
    "print(generate_random_string())"
   ]
  },
  {
   "cell_type": "code",
   "execution_count": 13,
   "id": "d41d0ad0",
   "metadata": {},
   "outputs": [
    {
     "data": {
      "text/plain": [
       "'Ibrahim '"
      ]
     },
     "execution_count": 13,
     "metadata": {},
     "output_type": "execute_result"
    }
   ],
   "source": [
    "random.choice(sunaye)"
   ]
  },
  {
   "cell_type": "code",
   "execution_count": 7,
   "id": "de4d1fcf",
   "metadata": {},
   "outputs": [
    {
     "name": "stdout",
     "output_type": "stream",
     "text": [
      "Hajara Umaru Ibrahim \n"
     ]
    }
   ],
   "source": [
    "sunaye = [\"Hajara \",\"Umaru \", \"Ibrahim \"]\n",
    "print(\"\".join(sunaye))"
   ]
  }
 ],
 "metadata": {
  "kernelspec": {
   "display_name": "nlptools",
   "language": "python",
   "name": "python3"
  },
  "language_info": {
   "codemirror_mode": {
    "name": "ipython",
    "version": 3
   },
   "file_extension": ".py",
   "mimetype": "text/x-python",
   "name": "python",
   "nbconvert_exporter": "python",
   "pygments_lexer": "ipython3",
   "version": "3.12.7"
  }
 },
 "nbformat": 4,
 "nbformat_minor": 5
}
